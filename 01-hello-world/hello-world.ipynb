{
 "cells": [
  {
   "cell_type": "code",
   "execution_count": 1,
   "id": "a229e0ac-229d-4fe7-bb19-4379c8a411fb",
   "metadata": {},
   "outputs": [
    {
     "name": "stdout",
     "output_type": "stream",
     "text": [
      "ChatCompletionMessage(content=\"In the realm of coding, where logic prevails,\\nResides a concept that never fails.\\nIt whispers softly, a puzzle's key,\\nRecursion, a dance between you and me.\\n\\nImagine a function, a noble knight,\\nWith a daring quest, to seek the light.\\nBut in this pursuit, it needs a friend,\\nA reflection, its own self, to lend.\\n\\nA mirror, you see, held by its side,\\nReflects the code, with nothing to hide.\\nInto the mirror, it marches with pride,\\nAnd inside the reflection, it does reside.\\n\\nWith purpose and grace, it calls itself,\\nA self-contained loop, a looping elf.\\nA story within a story, it tells,\\nUnlocking secrets, where complexity dwells.\\n\\nFor every journey the knight would take,\\nThe reflection follows, no hesitations to make.\\nWith each step, it repeats the command,\\nReducing the problem, like grains of sand.\\n\\nOnce it enters, it dwells deep within,\\nUnfolding layers, where mysteries begin.\\nRecursive bliss, in an endless embrace,\\nThe knight and its doppelgänger, in virtual space.\\n\\nBut in this dance, a line must be drawn,\\nLest the illusion of infinity be spawned.\\nA wise knight knows this delicate art,\\nTo break the cycle, and from it depart.\\n\\nJust as the story must find its end,\\nThe function returns, its task to suspend.\\nLike echoes fading, in a distant refrain,\\nRecursion concludes, yet it leaves its stain.\\n\\nSo, remember this tale of code and rhyme,\\nWhere recursion weaves its enchanting chime.\\nAs you journey through programming's abyss,\\nEmbrace recursion's magic, with a poetic twist.\", role='assistant', function_call=None, tool_calls=None)\n"
     ]
    }
   ],
   "source": [
    "from openai import OpenAI\n",
    "client = OpenAI()\n",
    "\n",
    "completion = client.chat.completions.create(\n",
    "    model=\"gpt-3.5-turbo\",\n",
    "    messages=[\n",
    "    {\"role\": \"system\", \"content\": \"You are a poetic assistant, skilled in explaining complex programming concepts with creative flair.\"},\n",
    "    {\"role\": \"user\", \"content\": \"Compose a poem that explains the concept of recursion in programming.\"}\n",
    "    ]\n",
    ")\n",
    "\n",
    "print(completion.choices[0].message)"
   ]
  },
  {
   "cell_type": "code",
   "execution_count": 7,
   "id": "e7a23ea0-845d-425f-8a55-08e76dbbb476",
   "metadata": {},
   "outputs": [
    {
     "name": "stdout",
     "output_type": "stream",
     "text": [
      "In the realm of coding, where logic prevails,\n",
      "Resides a concept that never fails.\n",
      "It whispers softly, a puzzle's key,\n",
      "Recursion, a dance between you and me.\n",
      "\n",
      "Imagine a function, a noble knight,\n",
      "With a daring quest, to seek the light.\n",
      "But in this pursuit, it needs a friend,\n",
      "A reflection, its own self, to lend.\n",
      "\n",
      "A mirror, you see, held by its side,\n",
      "Reflects the code, with nothing to hide.\n",
      "Into the mirror, it marches with pride,\n",
      "And inside the reflection, it does reside.\n",
      "\n",
      "With purpose and grace, it calls itself,\n",
      "A self-contained loop, a looping elf.\n",
      "A story within a story, it tells,\n",
      "Unlocking secrets, where complexity dwells.\n",
      "\n",
      "For every journey the knight would take,\n",
      "The reflection follows, no hesitations to make.\n",
      "With each step, it repeats the command,\n",
      "Reducing the problem, like grains of sand.\n",
      "\n",
      "Once it enters, it dwells deep within,\n",
      "Unfolding layers, where mysteries begin.\n",
      "Recursive bliss, in an endless embrace,\n",
      "The knight and its doppelgänger, in virtual space.\n",
      "\n",
      "But in this dance, a line must be drawn,\n",
      "Lest the illusion of infinity be spawned.\n",
      "A wise knight knows this delicate art,\n",
      "To break the cycle, and from it depart.\n",
      "\n",
      "Just as the story must find its end,\n",
      "The function returns, its task to suspend.\n",
      "Like echoes fading, in a distant refrain,\n",
      "Recursion concludes, yet it leaves its stain.\n",
      "\n",
      "So, remember this tale of code and rhyme,\n",
      "Where recursion weaves its enchanting chime.\n",
      "As you journey through programming's abyss,\n",
      "Embrace recursion's magic, with a poetic twist.\n"
     ]
    }
   ],
   "source": [
    "print(completion.choices[0].message.content)"
   ]
  },
  {
   "cell_type": "code",
   "execution_count": null,
   "id": "9c4a28ce-6fdf-417c-946e-78b7f9ca5895",
   "metadata": {},
   "outputs": [],
   "source": []
  }
 ],
 "metadata": {
  "kernelspec": {
   "display_name": "Python 3 (ipykernel)",
   "language": "python",
   "name": "python3"
  },
  "language_info": {
   "codemirror_mode": {
    "name": "ipython",
    "version": 3
   },
   "file_extension": ".py",
   "mimetype": "text/x-python",
   "name": "python",
   "nbconvert_exporter": "python",
   "pygments_lexer": "ipython3",
   "version": "3.9.6"
  }
 },
 "nbformat": 4,
 "nbformat_minor": 5
}
